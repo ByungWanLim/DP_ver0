{
 "cells": [
  {
   "cell_type": "code",
   "execution_count": 9,
   "metadata": {},
   "outputs": [
    {
     "name": "stderr",
     "output_type": "stream",
     "text": [
      "\n",
      "image 1/1 c:\\Workspace\\DP_ver0\\pizza.jpg: 640x448 1 bottle, 1 knife, 1 bowl, 1 orange, 1 pizza, 1 dining table, 345.0ms\n",
      "Speed: 4.0ms preprocess, 345.0ms inference, 6.0ms postprocess per image at shape (1, 3, 640, 448)\n"
     ]
    }
   ],
   "source": [
    "from ultralytics import YOLO\n",
    "import os\n",
    "import cv2\n",
    "\n",
    "os.environ['KMP_DUPLICATE_LIB_OK']='True'\n",
    "\n",
    "model2 = YOLO(\"C:\\Workspace\\DP_ver0/runs\\detect/train6\\weights/best.pt\")\n",
    "#metrics2 = model2.val()\n",
    "results2 = model2(\"pizza.jpg\")\n",
    "results_plot = results2[0].plot()\n",
    "cv2.imshow('result', results_plot)\n",
    "cv2.waitKey(0)\n",
    "cv2.destroyAllWindows()\n"
   ]
  },
  {
   "cell_type": "code",
   "execution_count": null,
   "metadata": {},
   "outputs": [],
   "source": [
    "\n",
    "boxes = results2[0].boxes\n",
    "# box = boxes[0]  # returns one box\n",
    "# box.xyxy\n",
    "boxes.xyxy\n"
   ]
  },
  {
   "cell_type": "code",
   "execution_count": 8,
   "metadata": {},
   "outputs": [
    {
     "name": "stdout",
     "output_type": "stream",
     "text": [
      "[ultralytics.yolo.engine.results.Results object with attributes:\n",
      "\n",
      "boxes: ultralytics.yolo.engine.results.Boxes object\n",
      "keypoints: None\n",
      "keys: ['boxes']\n",
      "masks: None\n",
      "names: {0: 'person', 1: 'bicycle', 2: 'car', 3: 'motorcycle', 4: 'airplane', 5: 'bus', 6: 'train', 7: 'truck', 8: 'boat', 9: 'traffic light', 10: 'fire hydrant', 11: 'stop sign', 12: 'parking meter', 13: 'bench', 14: 'bird', 15: 'cat', 16: 'dog', 17: 'horse', 18: 'sheep', 19: 'cow', 20: 'elephant', 21: 'bear', 22: 'zebra', 23: 'giraffe', 24: 'backpack', 25: 'umbrella', 26: 'handbag', 27: 'tie', 28: 'suitcase', 29: 'frisbee', 30: 'skis', 31: 'snowboard', 32: 'sports ball', 33: 'kite', 34: 'baseball bat', 35: 'baseball glove', 36: 'skateboard', 37: 'surfboard', 38: 'tennis racket', 39: 'bottle', 40: 'wine glass', 41: 'cup', 42: 'fork', 43: 'knife', 44: 'spoon', 45: 'bowl', 46: 'banana', 47: 'apple', 48: 'sandwich', 49: 'orange', 50: 'broccoli', 51: 'carrot', 52: 'hot dog', 53: 'pizza', 54: 'donut', 55: 'cake', 56: 'chair', 57: 'couch', 58: 'potted plant', 59: 'bed', 60: 'dining table', 61: 'toilet', 62: 'tv', 63: 'laptop', 64: 'mouse', 65: 'remote', 66: 'keyboard', 67: 'cell phone', 68: 'microwave', 69: 'oven', 70: 'toaster', 71: 'sink', 72: 'refrigerator', 73: 'book', 74: 'clock', 75: 'vase', 76: 'scissors', 77: 'teddy bear', 78: 'hair drier', 79: 'toothbrush'}\n",
      "orig_img: array([[[ 3,  4,  2],\n",
      "        [ 5,  6,  4],\n",
      "        [ 7,  9,  9],\n",
      "        ...,\n",
      "        [ 0,  2,  3],\n",
      "        [ 0,  2,  1],\n",
      "        [ 2,  7,  6]],\n",
      "\n",
      "       [[ 4,  5,  3],\n",
      "        [18, 21, 19],\n",
      "        [46, 48, 48],\n",
      "        ...,\n",
      "        [ 0,  2,  3],\n",
      "        [ 0,  3,  2],\n",
      "        [ 2,  7,  6]],\n",
      "\n",
      "       [[ 7,  9,  9],\n",
      "        [21, 23, 23],\n",
      "        [49, 51, 52],\n",
      "        ...,\n",
      "        [ 0,  2,  3],\n",
      "        [ 3,  5,  5],\n",
      "        [ 5,  7,  7]],\n",
      "\n",
      "       ...,\n",
      "\n",
      "       [[52, 54, 55],\n",
      "        [52, 54, 55],\n",
      "        [51, 53, 54],\n",
      "        ...,\n",
      "        [13, 15, 16],\n",
      "        [14, 16, 17],\n",
      "        [13, 15, 16]],\n",
      "\n",
      "       [[53, 55, 56],\n",
      "        [53, 55, 56],\n",
      "        [51, 53, 54],\n",
      "        ...,\n",
      "        [15, 17, 18],\n",
      "        [16, 18, 19],\n",
      "        [14, 16, 17]],\n",
      "\n",
      "       [[53, 55, 56],\n",
      "        [53, 55, 56],\n",
      "        [52, 54, 55],\n",
      "        ...,\n",
      "        [16, 18, 19],\n",
      "        [17, 19, 20],\n",
      "        [15, 17, 18]]], dtype=uint8)\n",
      "orig_shape: (832, 582)\n",
      "path: 'c:\\\\Workspace\\\\DP_ver0\\\\shin.jpg'\n",
      "probs: None\n",
      "save_dir: None\n",
      "speed: {'preprocess': 7.979154586791992, 'inference': 339.336633682251, 'postprocess': 2.99072265625}]\n"
     ]
    }
   ],
   "source": [
    "print(results2)"
   ]
  },
  {
   "cell_type": "code",
   "execution_count": null,
   "metadata": {},
   "outputs": [],
   "source": [
    "\n",
    "# Load a model\n",
    "model = YOLO(\"yolov8n.yaml\")  # build a new model from scratch\n",
    "model = YOLO(\"yolov8n.pt\")  # load a pretrained model (recommended for training)\n",
    "\n",
    "# Use the model\n",
    "model.train(data=\"coco128.yaml\", epochs=3)  # train the model\n",
    "metrics = model.val()  # evaluate model performance on the validation set\n",
    "results = model(\"https://ultralytics.com/images/bus.jpg\")  # predict on an image\n",
    "path = model.export(format=\"onnx\")  # export the model to ONNX format"
   ]
  }
 ],
 "metadata": {
  "kernelspec": {
   "display_name": "UM",
   "language": "python",
   "name": "python3"
  },
  "language_info": {
   "codemirror_mode": {
    "name": "ipython",
    "version": 3
   },
   "file_extension": ".py",
   "mimetype": "text/x-python",
   "name": "python",
   "nbconvert_exporter": "python",
   "pygments_lexer": "ipython3",
   "version": "3.10.9"
  },
  "orig_nbformat": 4
 },
 "nbformat": 4,
 "nbformat_minor": 2
}
