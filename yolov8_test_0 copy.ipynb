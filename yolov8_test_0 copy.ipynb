{
 "cells": [
  {
   "cell_type": "code",
   "execution_count": null,
   "metadata": {},
   "outputs": [],
   "source": [
    "from ultralytics import YOLO\n",
    "import os\n",
    "os.environ['KMP_DUPLICATE_LIB_OK']='True'\n",
    "\n",
    "# Load a model\n",
    "model = YOLO(\"yolov8n.yaml\")  # build a new model from scratch\n",
    "model = YOLO(\"yolov8n.pt\")  # load a pretrained model (recommended for training)\n",
    "\n",
    "# Use the model\n",
    "model.train(data=\"coco128.yaml\", epochs=1)  # train the model\n",
    "metrics = model.val()  # evaluate model performance on the validation set\n",
    "\n",
    "results = model(\"https://ultralytics.com/images/bus.jpg\")  # predict on an image\n",
    "path = model.export(format=\"onnx\")  # export the model to ONNX format"
   ]
  },
  {
   "cell_type": "code",
   "execution_count": null,
   "metadata": {},
   "outputs": [],
   "source": [
    "from ultralytics import YOLO\n",
    "import os\n",
    "os.environ['KMP_DUPLICATE_LIB_OK']='True'\n",
    " \n",
    " \n",
    "model = YOLO(\"C:\\Workspace\\DP_ver0\\yolov8n.pt\")\n",
    "model.train(resume=False,data=\"C:\\Workspace\\DP_ver0\\koreantext\\koreantext.yaml\",epochs=1)\n",
    "metrics = model.val()\n",
    "results = model(\"https://ultralytics.com/images/bus.jpg\")"
   ]
  },
  {
   "cell_type": "code",
   "execution_count": null,
   "metadata": {},
   "outputs": [],
   "source": [
    "from ultralytics import YOLO\n",
    "import os\n",
    "import cv2\n",
    "os.environ['KMP_DUPLICATE_LIB_OK']='True'\n",
    "\n",
    "model = YOLO(\"C:\\Workspace/DP_ver0/runs/detect/train21/weights/best.pt\")\n",
    "\n",
    "results = model(\"C:\\Workspace/DP_ver0/shin.jpg\")  # predict on an image\n",
    "\n",
    "\n",
    "res_plotted = results[0].plot()\n",
    "print(results)\n",
    "cv2.imshow(\"result\", res_plotted)\n",
    "cv2.waitKey(0)\n",
    "cv2.destroyAllWindows()\n"
   ]
  },
  {
   "cell_type": "code",
   "execution_count": 19,
   "metadata": {},
   "outputs": [
    {
     "ename": "TypeError",
     "evalue": "'int' object is not subscriptable",
     "output_type": "error",
     "traceback": [
      "\u001b[1;31m---------------------------------------------------------------------------\u001b[0m",
      "\u001b[1;31mTypeError\u001b[0m                                 Traceback (most recent call last)",
      "Cell \u001b[1;32mIn[19], line 21\u001b[0m\n\u001b[0;32m     19\u001b[0m element2 \u001b[39m=\u001b[39m element\n\u001b[0;32m     20\u001b[0m \u001b[39mfor\u001b[39;00m j \u001b[39min\u001b[39;00m \u001b[39mrange\u001b[39m(\u001b[39mlen\u001b[39m(element)):\n\u001b[1;32m---> 21\u001b[0m     element[j][\u001b[39m0\u001b[39m] \u001b[39m=\u001b[39m element[j][\u001b[39m0\u001b[39;49m]  \u001b[39m+\u001b[39m element[j][\u001b[39m2\u001b[39m] \u001b[39m/\u001b[39m\u001b[39m/\u001b[39m \u001b[39m2\u001b[39m\n\u001b[0;32m     22\u001b[0m     element[j][\u001b[39m1\u001b[39m] \u001b[39m=\u001b[39m element[j][\u001b[39m1\u001b[39m]  \u001b[39m+\u001b[39m element[j][\u001b[39m3\u001b[39m] \u001b[39m/\u001b[39m\u001b[39m/\u001b[39m \u001b[39m2\u001b[39m\n\u001b[0;32m     23\u001b[0m     \u001b[39mif\u001b[39;00m j \u001b[39m%\u001b[39m \u001b[39m2\u001b[39m \u001b[39m==\u001b[39m \u001b[39m0\u001b[39m:\n",
      "\u001b[1;31mTypeError\u001b[0m: 'int' object is not subscriptable"
     ]
    }
   ],
   "source": [
    "#json파일의 요소 yolo label형식으로 변경코드\n",
    "import os\n",
    "import json\n",
    "\n",
    "file_dir = \"C:\\Workspace\\DP_ver0\\koreantext/2.책표지/01.총류\"\n",
    "\n",
    "#fild_dir = os.path.join(file_dir,\"책표지_총류_000001.json\")\n",
    "\n",
    "\n",
    "elements=[]\n",
    "elements_each=[]\n",
    "\n",
    "for file_name in os.listdir(file_dir):\n",
    "    target_dir = os.path.join(file_dir, file_name)\n",
    "    with open(target_dir, 'r',encoding= \"utf-8\") as json_file:\n",
    "        data = json.load(json_file)\n",
    "    for i in range(len(data['annotations'])):   \n",
    "        element = data['annotations'][i]['bbox']\n",
    "        element[0] = element[0]  + element[2] // 2\n",
    "        element[1] = element[1]  + element[3] // 2\n",
    "        element2 = element\n",
    "        for j in range(len(element)):\n",
    "            \n",
    "            if j % 2 == 0:\n",
    "                element2[j] = element[j]/1600\n",
    "            else:\n",
    "                element2[j] = element[j]/1200\n",
    "        elements_each.append(element2)\n",
    "    \n",
    "    \n",
    "    # 텍스트 파일에 쓰기\n",
    "    with open(f'./asd/{file_name[-11:-5]}.txt', 'w') as txt_file:\n",
    "        for elements in elements_each:\n",
    "            element_str = ' '.join(str(element)[:8] for element in elements)\n",
    "            txt_file.write(\"80 \" + str(element_str)+\"\\n\")\n",
    "        \n",
    "    elements_each = []"
   ]
  },
  {
   "cell_type": "code",
   "execution_count": null,
   "metadata": {},
   "outputs": [],
   "source": []
  }
 ],
 "metadata": {
  "kernelspec": {
   "display_name": "UM",
   "language": "python",
   "name": "python3"
  },
  "language_info": {
   "codemirror_mode": {
    "name": "ipython",
    "version": 3
   },
   "file_extension": ".py",
   "mimetype": "text/x-python",
   "name": "python",
   "nbconvert_exporter": "python",
   "pygments_lexer": "ipython3",
   "version": "3.10.10"
  },
  "orig_nbformat": 4
 },
 "nbformat": 4,
 "nbformat_minor": 2
}
