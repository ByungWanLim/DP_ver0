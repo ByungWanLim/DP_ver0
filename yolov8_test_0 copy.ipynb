{
 "cells": [
  {
   "cell_type": "code",
   "execution_count": null,
   "metadata": {},
   "outputs": [],
   "source": [
    "from ultralytics import YOLO\n",
    "import os\n",
    "import cv2\n",
    "\n",
    "os.environ['KMP_DUPLICATE_LIB_OK']='True'\n",
    "\n",
    "model2 = YOLO(\"C:\\Workspace\\DP_ver0/runs\\detect/train6\\weights/best.pt\")\n",
    "#metrics2 = model2.val()\n",
    "results2 = model2(\"shin.jpg\")\n",
    "results_plot = results2[0].plot()\n",
    "cv2.imshow('result', results_plot)\n",
    "cv2.waitKey(0)\n",
    "cv2.destroyAllWindows()\n"
   ]
  },
  {
   "cell_type": "code",
   "execution_count": null,
   "metadata": {},
   "outputs": [],
   "source": [
    "\n",
    "boxes = results2[0].boxes\n",
    "# box = boxes[0]  # returns one box\n",
    "# box.xyxy\n",
    "boxes.xyxy\n"
   ]
  },
  {
   "cell_type": "code",
   "execution_count": null,
   "metadata": {},
   "outputs": [],
   "source": [
    "# print(results2)"
   ]
  },
  {
   "cell_type": "code",
   "execution_count": null,
   "metadata": {},
   "outputs": [],
   "source": [
    "\n",
    "# Load a model\n",
    "model = YOLO(\"yolov8n.yaml\")  # build a new model from scratch\n",
    "model = YOLO(\"yolov8n.pt\")  # load a pretrained model (recommended for training)\n",
    "\n",
    "# Use the model\n",
    "model.train(data=\"coco128.yaml\", epochs=3)  # train the model\n",
    "metrics = model.val()  # evaluate model performance on the validation set\n",
    "results = model(\"https://ultralytics.com/images/bus.jpg\")  # predict on an image\n",
    "path = model.export(format=\"onnx\")  # export the model to ONNX format\n"
   ]
  },
  {
   "cell_type": "code",
   "execution_count": null,
   "metadata": {},
   "outputs": [],
   "source": [
    "import os\n",
    "import json\n",
    "\n",
    "file_dir = \".\\koreantext/train\\images\"\n",
    "\n",
    "elements_each=[]\n",
    "elements=[]\n",
    "\n",
    "for file_name in os.listdir(file_dir):\n",
    "    target_dir = os.path.join(file_dir, file_name)\n",
    "    with open(target_dir, 'r',encoding=\n",
    "          \"utf-8\") as json_file:\n",
    "        data = json.load(json_file)\n",
    "    for i in range(len(data['annotations'])):   \n",
    "        element = data['annotations'][i]['bbox']\n",
    "        element2 = element\n",
    "        for j in range(len(element)):\n",
    "            if j % 2 == 0:\n",
    "                element2[j] = element[j]/1600\n",
    "            else:\n",
    "                element2[j] = element[j]/1200\n",
    "        elements_each.append(element2)\n",
    "    elements.append(elements_each)\n",
    "    elements_each=[]\n",
    "    "
   ]
  }
 ],
 "metadata": {
  "kernelspec": {
   "display_name": "UM",
   "language": "python",
   "name": "python3"
  },
  "language_info": {
   "codemirror_mode": {
    "name": "ipython",
    "version": 3
   },
   "file_extension": ".py",
   "mimetype": "text/x-python",
   "name": "python",
   "nbconvert_exporter": "python",
   "pygments_lexer": "ipython3",
   "version": "3.10.9"
  },
  "orig_nbformat": 4
 },
 "nbformat": 4,
 "nbformat_minor": 2
}
